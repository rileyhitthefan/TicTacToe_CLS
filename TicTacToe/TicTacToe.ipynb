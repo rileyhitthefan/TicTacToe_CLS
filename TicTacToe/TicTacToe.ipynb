{
 "cells": [
  {
   "cell_type": "markdown",
   "metadata": {},
   "source": [
    "## CLS TicTacToe\n",
    "AI Lab 4 <br>\n",
    "Riley Phan <br>\n",
    "04/30/2024 "
   ]
  },
  {
   "cell_type": "markdown",
   "metadata": {},
   "source": [
    "### Instruction (python <= 3.11.5)"
   ]
  },
  {
   "cell_type": "markdown",
   "metadata": {},
   "source": [
    "1. Make sure **\"tictactoe_cls.py\"**, **\"tictactoe_game.py\"** and **\"TicTacToe.ipynb\"** is available in the same folder.\n",
    "\n",
    "![1](../Screenshots/1.png)"
   ]
  },
  {
   "cell_type": "markdown",
   "metadata": {},
   "source": [
    "\n",
    "2. Run the program by pressing **\"Run All\"**. This will import and run any necessary function to implement TicTacToe gameplay logic, Collective learning scheme for unsupervised training, and the UI for human-AI gameplay.\n",
    "    - You can edit the number of training epochs by editing the argument in the first code block under **Main** section\n",
    "\n",
    "    ![2](../Screenshots/2.png)\n",
    "\n",
    "    - The game is currently set up so that human is the first player.\n"
   ]
  },
  {
   "cell_type": "markdown",
   "metadata": {},
   "source": [
    "3. When the TicTacToe UI \"Tic Tac Toe\" pops up, click on a cell to make the first move. The AI agent will play after you do.\n",
    "\n",
    "![3](../Screenshots/3.png)"
   ]
  },
  {
   "cell_type": "markdown",
   "metadata": {},
   "source": [
    "4. After the game ends, press OK to reset the board and start new game or press exit 'X' buttons to close all UIs and end program.\n",
    "    - There are 3 endgame results: \"You win\", \"AI wins\", or \"Tie!\".\n",
    "    \n",
    "    ![4](../Screenshots/4.png)"
   ]
  },
  {
   "cell_type": "markdown",
   "metadata": {},
   "source": [
    "### Code\n",
    "Install requirements"
   ]
  },
  {
   "cell_type": "code",
   "execution_count": 1,
   "metadata": {},
   "outputs": [
    {
     "name": "stdout",
     "output_type": "stream",
     "text": [
      "Requirement already satisfied: numpy in c:\\users\\bi020\\anaconda3\\lib\\site-packages (1.26.3)\n"
     ]
    }
   ],
   "source": [
    "!pip install numpy"
   ]
  },
  {
   "cell_type": "markdown",
   "metadata": {},
   "source": [
    "### TicTacToe gameplay logic"
   ]
  },
  {
   "cell_type": "code",
   "execution_count": 2,
   "metadata": {},
   "outputs": [],
   "source": [
    "from tictactoe_cls import TicTacToe"
   ]
  },
  {
   "cell_type": "markdown",
   "metadata": {},
   "source": [
    "### Collective learning scheme"
   ]
  },
  {
   "cell_type": "code",
   "execution_count": 3,
   "metadata": {},
   "outputs": [],
   "source": [
    "from tictactoe_cls import CollectiveLearning"
   ]
  },
  {
   "cell_type": "markdown",
   "metadata": {},
   "source": [
    "### TicTacToe UI "
   ]
  },
  {
   "cell_type": "code",
   "execution_count": 4,
   "metadata": {},
   "outputs": [],
   "source": [
    "import tkinter as tk\n",
    "from tkinter import messagebox"
   ]
  },
  {
   "cell_type": "code",
   "execution_count": 5,
   "metadata": {},
   "outputs": [],
   "source": [
    "from tictactoe_game import TicTacToeGame"
   ]
  },
  {
   "cell_type": "markdown",
   "metadata": {},
   "source": [
    "### Main"
   ]
  },
  {
   "cell_type": "code",
   "execution_count": 6,
   "metadata": {},
   "outputs": [],
   "source": [
    "learner = CollectiveLearning(\"p1\", \"p2\")\n",
    "learner.train(1000)"
   ]
  },
  {
   "cell_type": "code",
   "execution_count": 7,
   "metadata": {},
   "outputs": [],
   "source": [
    "p1 = 'CLS'\n",
    "p2 = 'Human'\n",
    "\n",
    "def main():\n",
    "    game = TicTacToe(p1, p2)\n",
    "    cls = CollectiveLearning(p2, p1)\n",
    "    \n",
    "    root = tk.Tk()\n",
    "    root.title('Tic Tac Toe')\n",
    "    game = TicTacToeGame(root)\n",
    "    root.mainloop()"
   ]
  },
  {
   "cell_type": "code",
   "execution_count": 8,
   "metadata": {},
   "outputs": [],
   "source": [
    "# implement the game\n",
    "main()"
   ]
  }
 ],
 "metadata": {
  "kernelspec": {
   "display_name": "base",
   "language": "python",
   "name": "python3"
  },
  "language_info": {
   "codemirror_mode": {
    "name": "ipython",
    "version": 3
   },
   "file_extension": ".py",
   "mimetype": "text/x-python",
   "name": "python",
   "nbconvert_exporter": "python",
   "pygments_lexer": "ipython3",
   "version": "3.11.5"
  }
 },
 "nbformat": 4,
 "nbformat_minor": 2
}
